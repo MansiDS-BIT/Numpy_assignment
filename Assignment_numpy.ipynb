{
 "cells": [
  {
   "cell_type": "markdown",
   "metadata": {},
   "source": [
    "1. Create a NumPy array 'arr' of integers from to 5 and print its data type. "
   ]
  },
  {
   "cell_type": "code",
   "execution_count": 1,
   "metadata": {},
   "outputs": [
    {
     "name": "stdout",
     "output_type": "stream",
     "text": [
      "int64\n"
     ]
    }
   ],
   "source": [
    "import numpy as np\n",
    "\n",
    "arr = np.array([0, 1, 2, 3, 4, 5])\n",
    "print(arr.dtype)\n"
   ]
  },
  {
   "cell_type": "markdown",
   "metadata": {},
   "source": [
    "2. Given a NumPy array 'arr', check if its data type is float64. \n",
    "\n",
    "arr = np.array([1.5, 2.6, 3.7])"
   ]
  },
  {
   "cell_type": "code",
   "execution_count": 2,
   "metadata": {},
   "outputs": [
    {
     "name": "stdout",
     "output_type": "stream",
     "text": [
      "True\n"
     ]
    }
   ],
   "source": [
    "import numpy as np\n",
    "\n",
    "arr = np.array([1.5, 2.6, 3.7])\n",
    "print(arr.dtype == np.float64)\n"
   ]
  },
  {
   "cell_type": "markdown",
   "metadata": {},
   "source": [
    "3. Create a NumPy array 'arr' with a data type of complex128 containing three complex numbers."
   ]
  },
  {
   "cell_type": "code",
   "execution_count": 3,
   "metadata": {},
   "outputs": [
    {
     "name": "stdout",
     "output_type": "stream",
     "text": [
      "[1.+2.j 3.+4.j 5.+6.j]\n"
     ]
    }
   ],
   "source": [
    "import numpy as np\n",
    "\n",
    "arr = np.array([1+2j, 3+4j, 5+6j], dtype=np.complex128)\n",
    "print(arr)\n"
   ]
  },
  {
   "cell_type": "markdown",
   "metadata": {},
   "source": [
    " 4. Convert an existing NumPy array 'arr' of integers to float32 data type."
   ]
  },
  {
   "cell_type": "code",
   "execution_count": 4,
   "metadata": {},
   "outputs": [
    {
     "name": "stdout",
     "output_type": "stream",
     "text": [
      "[1. 2. 3. 4.]\n"
     ]
    }
   ],
   "source": [
    "import numpy as np\n",
    "\n",
    "arr = np.array([1, 2, 3, 4])\n",
    "arr = arr.astype(np.float32)\n",
    "print(arr)\n"
   ]
  },
  {
   "cell_type": "markdown",
   "metadata": {},
   "source": [
    " 5. Given a NumPy array 'arr' with float64 data type, convert it to float32 to reduce decimal precision."
   ]
  },
  {
   "cell_type": "code",
   "execution_count": 5,
   "metadata": {},
   "outputs": [
    {
     "name": "stdout",
     "output_type": "stream",
     "text": [
      "[1.5 2.5 3.5]\n"
     ]
    }
   ],
   "source": [
    "import numpy as np\n",
    "\n",
    "arr = np.array([1.5, 2.5, 3.5], dtype=np.float64)\n",
    "arr = arr.astype(np.float32)\n",
    "print(arr)\n"
   ]
  },
  {
   "cell_type": "markdown",
   "metadata": {},
   "source": [
    " 6. Write a function array_attributes that takes a NumPy array as input and returns its shape, size, and data \n",
    "type "
   ]
  },
  {
   "cell_type": "code",
   "execution_count": 74,
   "metadata": {},
   "outputs": [
    {
     "name": "stdout",
     "output_type": "stream",
     "text": [
      "((2, 3), 6, dtype('int64'))\n"
     ]
    }
   ],
   "source": [
    "import numpy as np\n",
    "\n",
    "def array_attributes(arr):\n",
    "    \"\"\"\n",
    "    Returns the shape, size, and data type of a NumPy array.\n",
    "    \n",
    "    Parameters:\n",
    "        arr (numpy.ndarray): Input NumPy array.\n",
    "    \n",
    "    Returns:\n",
    "        tuple: (shape, size, dtype)\n",
    "    \"\"\"\n",
    "    return arr.shape, arr.size, arr.dtype\n",
    "\n",
    "# Example usage\n",
    "arr = np.array([[1, 2, 3], [4, 5, 6]])\n",
    "print(array_attributes(arr))\n"
   ]
  },
  {
   "cell_type": "markdown",
   "metadata": {},
   "source": [
    "7. Create a function array_dimension that takes a NumPy array as input and returns its dimensionality."
   ]
  },
  {
   "cell_type": "code",
   "execution_count": 75,
   "metadata": {},
   "outputs": [
    {
     "name": "stdout",
     "output_type": "stream",
     "text": [
      "3\n"
     ]
    }
   ],
   "source": [
    "import numpy as np\n",
    "\n",
    "def array_dimension(arr):\n",
    "    \"\"\"\n",
    "    Returns the dimensionality of a NumPy array.\n",
    "\n",
    "    Parameters:\n",
    "        arr (numpy.ndarray): Input NumPy array.\n",
    "\n",
    "    Returns:\n",
    "        int: The number of dimensions of the array.\n",
    "    \"\"\"\n",
    "    return arr.ndim\n",
    "\n",
    "# Example usage\n",
    "arr = np.array([[[1, 2, 3], [4, 5, 6]]])  # 3D array\n",
    "print(array_dimension(arr))  # Output: 3\n"
   ]
  },
  {
   "cell_type": "markdown",
   "metadata": {},
   "source": [
    " 8. Design a function item_size_info that takes a NumPy array as input and returns the item size and the total \n",
    "size in bytes"
   ]
  },
  {
   "cell_type": "code",
   "execution_count": 76,
   "metadata": {},
   "outputs": [
    {
     "name": "stdout",
     "output_type": "stream",
     "text": [
      "(4, 24)\n"
     ]
    }
   ],
   "source": [
    "import numpy as np\n",
    "\n",
    "def item_size_info(arr):\n",
    "    \"\"\"\n",
    "    Returns the item size and total size in bytes of a NumPy array.\n",
    "\n",
    "    Parameters:\n",
    "        arr (numpy.ndarray): Input NumPy array.\n",
    "\n",
    "    Returns:\n",
    "        tuple: (item size in bytes, total size in bytes)\n",
    "    \"\"\"\n",
    "    return arr.itemsize, arr.nbytes\n",
    "\n",
    "# Example usage\n",
    "arr = np.array([[1, 2, 3], [4, 5, 6]], dtype=np.int32)\n",
    "print(item_size_info(arr))  # Output: (4, 24) for int32 type\n"
   ]
  },
  {
   "cell_type": "markdown",
   "metadata": {},
   "source": [
    " 9. Create a function array_strides that takes a NumPy array as input and returns the strides of the array"
   ]
  },
  {
   "cell_type": "code",
   "execution_count": 77,
   "metadata": {},
   "outputs": [
    {
     "name": "stdout",
     "output_type": "stream",
     "text": [
      "(12, 4)\n"
     ]
    }
   ],
   "source": [
    "import numpy as np\n",
    "\n",
    "def array_strides(arr):\n",
    "    \"\"\"\n",
    "    Returns the strides of a NumPy array.\n",
    "\n",
    "    Parameters:\n",
    "        arr (numpy.ndarray): Input NumPy array.\n",
    "\n",
    "    Returns:\n",
    "        tuple: Strides of the array.\n",
    "    \"\"\"\n",
    "    return arr.strides\n",
    "\n",
    "# Example usage\n",
    "arr = np.array([[1, 2, 3], [4, 5, 6]], dtype=np.int32)\n",
    "print(array_strides(arr))  # Output: (12, 4) for int32 type\n"
   ]
  },
  {
   "cell_type": "markdown",
   "metadata": {},
   "source": [
    " 10. Design a function shape_stride_relationship that takes a NumPy array as input and returns the shape \n",
    "and strides of the array"
   ]
  },
  {
   "cell_type": "code",
   "execution_count": 78,
   "metadata": {},
   "outputs": [
    {
     "name": "stdout",
     "output_type": "stream",
     "text": [
      "((2, 3), (12, 4))\n"
     ]
    }
   ],
   "source": [
    "import numpy as np\n",
    "\n",
    "def shape_stride_relationship(arr):\n",
    "    \"\"\"\n",
    "    Returns the shape and strides of a NumPy array.\n",
    "\n",
    "    Parameters:\n",
    "        arr (numpy.ndarray): Input NumPy array.\n",
    "\n",
    "    Returns:\n",
    "        tuple: (shape, strides)\n",
    "    \"\"\"\n",
    "    return arr.shape, arr.strides\n",
    "\n",
    "# Example usage\n",
    "arr = np.array([[1, 2, 3], [4, 5, 6]], dtype=np.int32)\n",
    "print(shape_stride_relationship(arr))  # Output: ((2, 3), (12, 4)) for int32 type\n",
    "\n"
   ]
  },
  {
   "cell_type": "markdown",
   "metadata": {},
   "source": [
    "11. Create a function `create_zeros_array` that takes an integer `n` as input and returns a NumPy array of \n",
    "zeros with `n` elements"
   ]
  },
  {
   "cell_type": "code",
   "execution_count": 79,
   "metadata": {},
   "outputs": [
    {
     "name": "stdout",
     "output_type": "stream",
     "text": [
      "[0. 0. 0. 0. 0.]\n"
     ]
    }
   ],
   "source": [
    "import numpy as np\n",
    "\n",
    "def create_zeros_array(n):\n",
    "    \"\"\"\n",
    "    Creates a NumPy array of zeros with n elements.\n",
    "\n",
    "    Parameters:\n",
    "        n (int): Number of elements in the array.\n",
    "\n",
    "    Returns:\n",
    "        numpy.ndarray: Array of zeros with n elements.\n",
    "    \"\"\"\n",
    "    return np.zeros(n)\n",
    "\n",
    "# Example usage\n",
    "arr = create_zeros_array(5)\n",
    "print(arr)  # Output: [0. 0. 0. 0. 0.]\n",
    "\n"
   ]
  },
  {
   "cell_type": "markdown",
   "metadata": {},
   "source": [
    " 12. Write a function `create_ones_matrix` that takes integers `rows` and `cols` as inputs and generates a 2D \n",
    "NumPy array filled with ones of size `rows x cols`."
   ]
  },
  {
   "cell_type": "code",
   "execution_count": 80,
   "metadata": {},
   "outputs": [
    {
     "name": "stdout",
     "output_type": "stream",
     "text": [
      "[[1. 1. 1. 1.]\n",
      " [1. 1. 1. 1.]\n",
      " [1. 1. 1. 1.]]\n"
     ]
    }
   ],
   "source": [
    "import numpy as np\n",
    "\n",
    "def create_ones_matrix(rows, cols):\n",
    "    \"\"\"\n",
    "    Creates a 2D NumPy array filled with ones.\n",
    "\n",
    "    Parameters:\n",
    "        rows (int): Number of rows.\n",
    "        cols (int): Number of columns.\n",
    "\n",
    "    Returns:\n",
    "        numpy.ndarray: 2D array of ones with shape (rows, cols).\n",
    "    \"\"\"\n",
    "    return np.ones((rows, cols))\n",
    "\n",
    "# Example usage\n",
    "matrix = create_ones_matrix(3, 4)\n",
    "print(matrix)\n",
    "\n"
   ]
  },
  {
   "cell_type": "markdown",
   "metadata": {},
   "source": [
    " 13. Write a function `generate_range_array` that takes three integers start, stop, and step as arguments and \n",
    "creates a NumPy array with a range starting from `start`, ending at stop (exclusive), and with the specified \n",
    "`step`."
   ]
  },
  {
   "cell_type": "code",
   "execution_count": 81,
   "metadata": {},
   "outputs": [
    {
     "name": "stdout",
     "output_type": "stream",
     "text": [
      "[1 3 5 7 9]\n"
     ]
    }
   ],
   "source": [
    "import numpy as np\n",
    "\n",
    "def generate_range_array(start, stop, step):\n",
    "    \"\"\"\n",
    "    Creates a NumPy array with values ranging from start to stop (exclusive) with a given step.\n",
    "\n",
    "    Parameters:\n",
    "        start (int): Starting value of the sequence.\n",
    "        stop (int): End value (exclusive).\n",
    "        step (int): Step size between values.\n",
    "\n",
    "    Returns:\n",
    "        numpy.ndarray: Array containing the sequence.\n",
    "    \"\"\"\n",
    "    return np.arange(start, stop, step)\n",
    "\n",
    "# Example usage\n",
    "arr = generate_range_array(1, 10, 2)\n",
    "print(arr)  # Output: [1 3 5 7 9]\n",
    "\n"
   ]
  },
  {
   "cell_type": "markdown",
   "metadata": {},
   "source": [
    " 14. Design a function `generate_linear_space` that takes two floats `start`, `stop`, and an integer `num` as \n",
    "arguments and generates a NumPy array with num equally spaced values between `start` and `stop` \n",
    "(inclusive)."
   ]
  },
  {
   "cell_type": "code",
   "execution_count": 14,
   "metadata": {},
   "outputs": [
    {
     "name": "stdout",
     "output_type": "stream",
     "text": [
      "[ 0.   2.5  5.   7.5 10. ]\n"
     ]
    }
   ],
   "source": [
    "import numpy as np\n",
    "\n",
    "def generate_linear_space(start, stop, num):\n",
    "    return np.linspace(start, stop, num)\n",
    "\n",
    "# Example usage\n",
    "print(generate_linear_space(0.0, 10.0, 5))\n"
   ]
  },
  {
   "cell_type": "markdown",
   "metadata": {},
   "source": [
    " 15. Create a function `create_identity_matrix` that takes an integer `n` as input and generates a square \n",
    "identity matrix of size `n x n` using `numpy.eye`."
   ]
  },
  {
   "cell_type": "code",
   "execution_count": 15,
   "metadata": {},
   "outputs": [
    {
     "name": "stdout",
     "output_type": "stream",
     "text": [
      "[[1. 0. 0.]\n",
      " [0. 1. 0.]\n",
      " [0. 0. 1.]]\n"
     ]
    }
   ],
   "source": [
    "import numpy as np\n",
    "\n",
    "def create_identity_matrix(n):\n",
    "    return np.eye(n)\n",
    "\n",
    "# Example usage\n",
    "print(create_identity_matrix(3))\n"
   ]
  },
  {
   "cell_type": "markdown",
   "metadata": {},
   "source": [
    " 16. Write a function that takes a Python list and converts it into a NumPy array."
   ]
  },
  {
   "cell_type": "code",
   "execution_count": 16,
   "metadata": {},
   "outputs": [
    {
     "name": "stdout",
     "output_type": "stream",
     "text": [
      "[1 2 3 4 5]\n"
     ]
    }
   ],
   "source": [
    "import numpy as np\n",
    "\n",
    "def list_to_numpy_array(lst):\n",
    "    return np.array(lst)\n",
    "\n",
    "# Example usage\n",
    "print(list_to_numpy_array([1, 2, 3, 4, 5]))\n"
   ]
  },
  {
   "cell_type": "markdown",
   "metadata": {},
   "source": [
    " 17. Create a NumPy array and demonstrate the use of `numpy.view` to create a new array object with the \n",
    "same data."
   ]
  },
  {
   "cell_type": "code",
   "execution_count": 17,
   "metadata": {},
   "outputs": [
    {
     "name": "stdout",
     "output_type": "stream",
     "text": [
      "Original array: [1 2 3 4 5]\n",
      "View of array: [1 2 3 4 5]\n"
     ]
    }
   ],
   "source": [
    "import numpy as np\n",
    "\n",
    "def demonstrate_numpy_view():\n",
    "    arr = np.array([1, 2, 3, 4, 5])\n",
    "    arr_view = arr.view()\n",
    "    return arr, arr_view\n",
    "\n",
    "# Example usage\n",
    "original, view_arr = demonstrate_numpy_view()\n",
    "print(\"Original array:\", original)\n",
    "print(\"View of array:\", view_arr)\n"
   ]
  },
  {
   "cell_type": "markdown",
   "metadata": {},
   "source": [
    "18. Write a function that takes two NumPy arrays and concatenates them along a specified axis."
   ]
  },
  {
   "cell_type": "code",
   "execution_count": 18,
   "metadata": {},
   "outputs": [
    {
     "name": "stdout",
     "output_type": "stream",
     "text": [
      "[[1 2]\n",
      " [3 4]\n",
      " [5 6]\n",
      " [7 8]]\n"
     ]
    }
   ],
   "source": [
    "import numpy as np\n",
    "\n",
    "def concatenate_arrays(arr1, arr2, axis=0):\n",
    "    return np.concatenate((arr1, arr2), axis=axis)\n",
    "\n",
    "# Example usage\n",
    "arr1 = np.array([[1, 2], [3, 4]])\n",
    "arr2 = np.array([[5, 6], [7, 8]])\n",
    "print(concatenate_arrays(arr1, arr2, axis=0))\n"
   ]
  },
  {
   "cell_type": "markdown",
   "metadata": {},
   "source": [
    "19.  Create two NumPy arrays with different shapes and concatenate them horizontally using `numpy.\n",
    " concatenate`."
   ]
  },
  {
   "cell_type": "code",
   "execution_count": 19,
   "metadata": {},
   "outputs": [
    {
     "name": "stdout",
     "output_type": "stream",
     "text": [
      "[[1 2 5]\n",
      " [3 4 6]]\n"
     ]
    }
   ],
   "source": [
    "import numpy as np\n",
    "\n",
    "arr1 = np.array([[1, 2], [3, 4]])\n",
    "arr2 = np.array([[5], [6]])\n",
    "result = np.concatenate((arr1, arr2), axis=1)\n",
    "print(result)\n"
   ]
  },
  {
   "cell_type": "markdown",
   "metadata": {},
   "source": [
    " 20. Write a function that vertically stacks multiple NumPy arrays given as a list."
   ]
  },
  {
   "cell_type": "code",
   "execution_count": 20,
   "metadata": {},
   "outputs": [
    {
     "name": "stdout",
     "output_type": "stream",
     "text": [
      "[[1 2 3]\n",
      " [4 5 6]]\n"
     ]
    }
   ],
   "source": [
    "import numpy as np\n",
    "\n",
    "def vertical_stack(arr_list):\n",
    "    return np.vstack(arr_list)\n",
    "\n",
    "# Example usage\n",
    "arr1 = np.array([1, 2, 3])\n",
    "arr2 = np.array([4, 5, 6])\n",
    "print(vertical_stack([arr1, arr2]))\n"
   ]
  },
  {
   "cell_type": "markdown",
   "metadata": {},
   "source": [
    " 21. Write a Python function using NumPy to create an array of integers within a specified range (inclusive) \n",
    "with a given step size."
   ]
  },
  {
   "cell_type": "code",
   "execution_count": 21,
   "metadata": {},
   "outputs": [
    {
     "name": "stdout",
     "output_type": "stream",
     "text": [
      "[1 3 5 7 9]\n"
     ]
    }
   ],
   "source": [
    "import numpy as np\n",
    "\n",
    "def create_range_array(start, stop, step):\n",
    "    return np.arange(start, stop + 1, step)\n",
    "\n",
    "# Example usage\n",
    "print(create_range_array(1, 10, 2))\n"
   ]
  },
  {
   "cell_type": "markdown",
   "metadata": {},
   "source": [
    " 22. Write a Python function using NumPy to generate an array of 10 equally spaced values between 0 and 1 \n",
    "(inclusive)."
   ]
  },
  {
   "cell_type": "code",
   "execution_count": 22,
   "metadata": {},
   "outputs": [
    {
     "name": "stdout",
     "output_type": "stream",
     "text": [
      "[0.         0.11111111 0.22222222 0.33333333 0.44444444 0.55555556\n",
      " 0.66666667 0.77777778 0.88888889 1.        ]\n"
     ]
    }
   ],
   "source": [
    "import numpy as np\n",
    "\n",
    "def generate_equal_space():\n",
    "    return np.linspace(0, 1, 10)\n",
    "\n",
    "# Example usage\n",
    "print(generate_equal_space())\n"
   ]
  },
  {
   "cell_type": "markdown",
   "metadata": {},
   "source": [
    "23. Write a Python function using NumPy to create an array of 5 logarithmically spaced values between 1 and \n",
    "1000 (inclusive)."
   ]
  },
  {
   "cell_type": "code",
   "execution_count": 23,
   "metadata": {},
   "outputs": [
    {
     "name": "stdout",
     "output_type": "stream",
     "text": [
      "[   1.            5.62341325   31.6227766   177.827941   1000.        ]\n"
     ]
    }
   ],
   "source": [
    "import numpy as np\n",
    "\n",
    "def generate_log_space():\n",
    "    return np.logspace(0, 3, 5)\n",
    "\n",
    "# Example usage\n",
    "print(generate_log_space())\n"
   ]
  },
  {
   "cell_type": "markdown",
   "metadata": {},
   "source": [
    " 24. Create a Pandas DataFrame using a NumPy array that contains 5 rows and 3 columns, where the values \n",
    "are random integers between 1 and 100."
   ]
  },
  {
   "cell_type": "code",
   "execution_count": 24,
   "metadata": {},
   "outputs": [
    {
     "name": "stdout",
     "output_type": "stream",
     "text": [
      "    A   B   C\n",
      "0  43  90  37\n",
      "1   1   9  55\n",
      "2  98  86  99\n",
      "3  93  53   9\n",
      "4  70  18  24\n"
     ]
    }
   ],
   "source": [
    "import numpy as np\n",
    "import pandas as pd\n",
    "\n",
    "arr = np.random.randint(1, 101, size=(5, 3))\n",
    "df = pd.DataFrame(arr, columns=[\"A\", \"B\", \"C\"])\n",
    "print(df)\n"
   ]
  },
  {
   "cell_type": "markdown",
   "metadata": {},
   "source": [
    " 25. Write a function that takes a Pandas DataFrame and replaces all negative values in a specific column \n",
    "with zeros. Use NumPy operations within the Pandas DataFrame."
   ]
  },
  {
   "cell_type": "code",
   "execution_count": 25,
   "metadata": {},
   "outputs": [
    {
     "name": "stdout",
     "output_type": "stream",
     "text": [
      "    A   B\n",
      "0  10  -3\n",
      "1   0  20\n",
      "2  30  -8\n"
     ]
    }
   ],
   "source": [
    "import numpy as np\n",
    "import pandas as pd\n",
    "\n",
    "def replace_negatives(df, column):\n",
    "    df[column] = np.where(df[column] < 0, 0, df[column])\n",
    "    return df\n",
    "\n",
    "# Example usage\n",
    "data = {'A': [10, -5, 30], 'B': [-3, 20, -8]}\n",
    "df = pd.DataFrame(data)\n",
    "print(replace_negatives(df, 'A'))\n"
   ]
  },
  {
   "cell_type": "markdown",
   "metadata": {},
   "source": [
    " 26. Access the 3rd element from the given NumPy array.\n",
    " \n",
    " arr = np.array([10, 20, 30, 40, 50])"
   ]
  },
  {
   "cell_type": "code",
   "execution_count": 26,
   "metadata": {},
   "outputs": [
    {
     "name": "stdout",
     "output_type": "stream",
     "text": [
      "30\n"
     ]
    }
   ],
   "source": [
    "import numpy as np\n",
    "\n",
    "arr = np.array([10, 20, 30, 40, 50])\n",
    "print(arr[2])  # Index 2 for the 3rd element\n"
   ]
  },
  {
   "cell_type": "markdown",
   "metadata": {},
   "source": [
    " 27. Retrieve the element at index (1, 2) from the 2D NumPy array.\n",
    "\n",
    " arr_2d = np.array([[1, 2, 3],\n",
    "  \n",
    " [4, 5, 6],\n",
    "  \n",
    " [7, 8, 9]])"
   ]
  },
  {
   "cell_type": "code",
   "execution_count": 27,
   "metadata": {},
   "outputs": [
    {
     "name": "stdout",
     "output_type": "stream",
     "text": [
      "6\n"
     ]
    }
   ],
   "source": [
    "import numpy as np\n",
    "\n",
    "arr_2d = np.array([[1, 2, 3], \n",
    "                    [4, 5, 6], \n",
    "                    [7, 8, 9]])\n",
    "print(arr_2d[1, 2])  # Row index 1, Column index 2\n"
   ]
  },
  {
   "cell_type": "markdown",
   "metadata": {},
   "source": [
    " 28. Using boolean indexing, extract elements greater than 5 from the given NumPy array.\n",
    " \n",
    " arr = np.array([3, 8, 2, 10, 5, 7])"
   ]
  },
  {
   "cell_type": "code",
   "execution_count": 28,
   "metadata": {},
   "outputs": [
    {
     "name": "stdout",
     "output_type": "stream",
     "text": [
      "[ 8 10  7]\n"
     ]
    }
   ],
   "source": [
    "import numpy as np\n",
    "\n",
    "arr = np.array([3, 8, 2, 10, 5, 7])\n",
    "print(arr[arr > 5])\n"
   ]
  },
  {
   "cell_type": "markdown",
   "metadata": {},
   "source": [
    " 29. Perform basic slicing to extract elements from index 2 to 5 (inclusive) from the given NumPy array.\n",
    " \n",
    " arr = np.array([1, 2, 3, 4, 5, 6, 7, 8, 9])"
   ]
  },
  {
   "cell_type": "code",
   "execution_count": 29,
   "metadata": {},
   "outputs": [
    {
     "name": "stdout",
     "output_type": "stream",
     "text": [
      "[3 4 5 6]\n"
     ]
    }
   ],
   "source": [
    "import numpy as np\n",
    "\n",
    "arr = np.array([1, 2, 3, 4, 5, 6, 7, 8, 9])\n",
    "print(arr[2:6])  # Slices index 2 to 5\n"
   ]
  },
  {
   "cell_type": "markdown",
   "metadata": {},
   "source": [
    "30. Slice the 2D NumPy array to extract the sub-array `[[2, 3], [5, 6]]` from the given array.\n",
    "\n",
    " arr_2d = np.array([[1, 2, 3], \n",
    " [4, 5, 6], \n",
    " [7, 8, 9]])"
   ]
  },
  {
   "cell_type": "code",
   "execution_count": 30,
   "metadata": {},
   "outputs": [
    {
     "name": "stdout",
     "output_type": "stream",
     "text": [
      "[[2 3]\n",
      " [5 6]]\n"
     ]
    }
   ],
   "source": [
    "import numpy as np\n",
    "\n",
    "arr_2d = np.array([[1, 2, 3], \n",
    "                    [4, 5, 6], \n",
    "                    [7, 8, 9]])\n",
    "sub_array = arr_2d[0:2, 1:3]\n",
    "print(sub_array)\n"
   ]
  },
  {
   "cell_type": "markdown",
   "metadata": {},
   "source": [
    "31.Write a NumPy function to extract elements in specific order from a given 2D array based on indices \n",
    "provided in another array."
   ]
  },
  {
   "cell_type": "code",
   "execution_count": 31,
   "metadata": {},
   "outputs": [
    {
     "name": "stdout",
     "output_type": "stream",
     "text": [
      "[30 50 70]\n"
     ]
    }
   ],
   "source": [
    "import numpy as np\n",
    "\n",
    "def extract_elements(arr, row_indices, col_indices):\n",
    "    return arr[row_indices, col_indices]\n",
    "\n",
    "# Example usage\n",
    "arr = np.array([[10, 20, 30], [40, 50, 60], [70, 80, 90]])\n",
    "row_indices = np.array([0, 1, 2])\n",
    "col_indices = np.array([2, 1, 0])\n",
    "print(extract_elements(arr, row_indices, col_indices))\n"
   ]
  },
  {
   "cell_type": "markdown",
   "metadata": {},
   "source": [
    " 32. Create a NumPy function that filters elements greater than a threshold from a given 1D array using \n",
    "boolean indexing."
   ]
  },
  {
   "cell_type": "code",
   "execution_count": 32,
   "metadata": {},
   "outputs": [
    {
     "name": "stdout",
     "output_type": "stream",
     "text": [
      "[ 8 10]\n"
     ]
    }
   ],
   "source": [
    "import numpy as np\n",
    "\n",
    "def filter_greater_than(arr, threshold):\n",
    "    return arr[arr > threshold]\n",
    "\n",
    "# Example usage\n",
    "arr = np.array([1, 5, 8, 10, 3])\n",
    "print(filter_greater_than(arr, 5))\n"
   ]
  },
  {
   "cell_type": "markdown",
   "metadata": {},
   "source": [
    " 33. Develop a NumPy function that extracts specific elements from a 3D array using indices provided in three \n",
    "separate arrays for each dimension."
   ]
  },
  {
   "cell_type": "code",
   "execution_count": 33,
   "metadata": {},
   "outputs": [
    {
     "name": "stdout",
     "output_type": "stream",
     "text": [
      "[44 80 20]\n"
     ]
    }
   ],
   "source": [
    "import numpy as np\n",
    "\n",
    "def extract_3d_elements(arr, x_idx, y_idx, z_idx):\n",
    "    return arr[x_idx, y_idx, z_idx]\n",
    "\n",
    "# Example usage\n",
    "arr = np.random.randint(1, 100, (3, 3, 3))\n",
    "x_idx = np.array([0, 1, 2])\n",
    "y_idx = np.array([1, 2, 0])\n",
    "z_idx = np.array([2, 1, 0])\n",
    "print(extract_3d_elements(arr, x_idx, y_idx, z_idx))\n"
   ]
  },
  {
   "cell_type": "markdown",
   "metadata": {},
   "source": [
    " 34. Write a NumPy function that returns elements from an array where both two conditions are satisfied \n",
    "using boolean indexing."
   ]
  },
  {
   "cell_type": "code",
   "execution_count": 34,
   "metadata": {},
   "outputs": [
    {
     "name": "stdout",
     "output_type": "stream",
     "text": [
      "[3 5 7]\n"
     ]
    }
   ],
   "source": [
    "import numpy as np\n",
    "\n",
    "def filter_two_conditions(arr, cond1, cond2):\n",
    "    return arr[(arr > cond1) & (arr < cond2)]\n",
    "\n",
    "# Example usage\n",
    "arr = np.array([1, 3, 5, 7, 9])\n",
    "print(filter_two_conditions(arr, 2, 8))\n"
   ]
  },
  {
   "cell_type": "markdown",
   "metadata": {},
   "source": [
    " 35. Create a NumPy function that extracts elements from a 2D array using row and column indices provided \n",
    "in separate arrays."
   ]
  },
  {
   "cell_type": "code",
   "execution_count": 35,
   "metadata": {},
   "outputs": [
    {
     "name": "stdout",
     "output_type": "stream",
     "text": [
      "[20 70]\n"
     ]
    }
   ],
   "source": [
    "import numpy as np\n",
    "\n",
    "def extract_using_indices(arr, row_indices, col_indices):\n",
    "    return arr[row_indices, col_indices]\n",
    "\n",
    "# Example usage\n",
    "arr = np.array([[10, 20, 30], [40, 50, 60], [70, 80, 90]])\n",
    "row_indices = np.array([0, 2])\n",
    "col_indices = np.array([1, 0])\n",
    "print(extract_using_indices(arr, row_indices, col_indices))\n"
   ]
  },
  {
   "cell_type": "markdown",
   "metadata": {},
   "source": [
    " 36. Given an array arr of shape (3, 3), add a scalar value of 5 to each element using NumPy broadcasting."
   ]
  },
  {
   "cell_type": "code",
   "execution_count": 36,
   "metadata": {},
   "outputs": [
    {
     "name": "stdout",
     "output_type": "stream",
     "text": [
      "[[ 6  7  8]\n",
      " [ 9 10 11]]\n"
     ]
    }
   ],
   "source": [
    "import numpy as np\n",
    "\n",
    "arr = np.array([[1, 2, 3], [4, 5, 6]])\n",
    "arr += 5\n",
    "print(arr)\n"
   ]
  },
  {
   "cell_type": "markdown",
   "metadata": {},
   "source": [
    " 37. Consider two arrays arr1 of shape (1, 3) and arr2 of shape (3, 4). Multiply each row of arr2 by the \n",
    "corresponding element in arr1 using NumPy broadcasting."
   ]
  },
  {
   "cell_type": "code",
   "execution_count": 37,
   "metadata": {},
   "outputs": [
    {
     "name": "stdout",
     "output_type": "stream",
     "text": [
      "[[ 2  4  6  8]\n",
      " [15 18 21 24]\n",
      " [36 40 44 48]]\n"
     ]
    }
   ],
   "source": [
    "import numpy as np\n",
    "\n",
    "arr1 = np.array([[2, 3, 4]])  # Shape (1, 3)\n",
    "arr2 = np.array([[1, 2, 3, 4], [5, 6, 7, 8], [9, 10, 11, 12]])  # Shape (3, 4)\n",
    "result = arr1.T * arr2  # Broadcasting multiplication\n",
    "print(result)\n"
   ]
  },
  {
   "cell_type": "markdown",
   "metadata": {},
   "source": [
    " 38. Given a 1D array arr1 of shape (1, 4) and a 2D array arr2 of shape (4, 3), add arr1 to each row of arr2 using \n",
    "NumPy broadcasting."
   ]
  },
  {
   "cell_type": "code",
   "execution_count": 38,
   "metadata": {},
   "outputs": [
    {
     "name": "stdout",
     "output_type": "stream",
     "text": [
      "[[ 11  42  73 104]\n",
      " [ 21  52  83 114]\n",
      " [ 31  62  93 124]]\n"
     ]
    }
   ],
   "source": [
    "import numpy as np\n",
    "\n",
    "arr1 = np.array([[1, 2, 3, 4]])  # Shape (1, 4)\n",
    "arr2 = np.array([[10, 20, 30], [40, 50, 60], [70, 80, 90], [100, 110, 120]])  # Shape (4, 3)\n",
    "result = arr1 + arr2.T  # Broadcasting addition\n",
    "print(result)\n"
   ]
  },
  {
   "cell_type": "markdown",
   "metadata": {},
   "source": [
    " 39. Consider two arrays arr1 of shape (3, 1) and arr2 of shape (1, 3). Add these arrays using NumPy \n",
    "broadcasting."
   ]
  },
  {
   "cell_type": "code",
   "execution_count": 39,
   "metadata": {},
   "outputs": [
    {
     "name": "stdout",
     "output_type": "stream",
     "text": [
      "[[5 6 7]\n",
      " [6 7 8]\n",
      " [7 8 9]]\n"
     ]
    }
   ],
   "source": [
    "import numpy as np\n",
    "\n",
    "arr1 = np.array([[1], [2], [3]])  # Shape (3, 1)\n",
    "arr2 = np.array([[4, 5, 6]])  # Shape (1, 3)\n",
    "result = arr1 + arr2  # Broadcasting addition\n",
    "print(result)\n"
   ]
  },
  {
   "cell_type": "markdown",
   "metadata": {},
   "source": [
    " 40. Given arrays arr1 of shape (2, 3) and arr2 of shape (2, 2), perform multiplication using NumPy \n",
    "broadcasting. Handle the shape incompatibility."
   ]
  },
  {
   "cell_type": "code",
   "execution_count": 40,
   "metadata": {},
   "outputs": [
    {
     "name": "stdout",
     "output_type": "stream",
     "text": [
      "Shape mismatch error: operands could not be broadcast together with shapes (2,3) (2,2) \n"
     ]
    }
   ],
   "source": [
    "import numpy as np\n",
    "\n",
    "arr1 = np.array([[1, 2, 3], [4, 5, 6]])  # Shape (2, 3)\n",
    "arr2 = np.array([[1, 2], [3, 4]])  # Shape (2, 2)\n",
    "\n",
    "try:\n",
    "    result = arr1 * arr2  # This will cause an error due to shape incompatibility\n",
    "    print(result)\n",
    "except ValueError as e:\n",
    "    print(\"Shape mismatch error:\", e)\n"
   ]
  },
  {
   "cell_type": "markdown",
   "metadata": {},
   "source": [
    " 41. Calculate column-wise mean for the given array:\n",
    " \n",
    " arr = np.array([[1, 2, 3], [4, 5, 6]])"
   ]
  },
  {
   "cell_type": "code",
   "execution_count": 41,
   "metadata": {},
   "outputs": [
    {
     "name": "stdout",
     "output_type": "stream",
     "text": [
      "[2.5 3.5 4.5]\n"
     ]
    }
   ],
   "source": [
    "import numpy as np\n",
    "\n",
    "arr = np.array([[1, 2, 3], [4, 5, 6]])\n",
    "print(np.mean(arr, axis=0))\n"
   ]
  },
  {
   "cell_type": "markdown",
   "metadata": {},
   "source": [
    " 42. Find maximum value in each row of the given array:\n",
    " \n",
    " arr = np.array([[1, 2, 3], [4, 5, 6]])"
   ]
  },
  {
   "cell_type": "code",
   "execution_count": 42,
   "metadata": {},
   "outputs": [
    {
     "name": "stdout",
     "output_type": "stream",
     "text": [
      "[3 6]\n"
     ]
    }
   ],
   "source": [
    "import numpy as np\n",
    "\n",
    "arr = np.array([[1, 2, 3], [4, 5, 6]])\n",
    "print(np.max(arr, axis=1))\n"
   ]
  },
  {
   "cell_type": "markdown",
   "metadata": {},
   "source": [
    " 43. For the given array, find indices of maximum value in each column.\n",
    " \n",
    " arr = np.array([[1, 2, 3], [4, 5, 6]])"
   ]
  },
  {
   "cell_type": "code",
   "execution_count": 43,
   "metadata": {},
   "outputs": [
    {
     "name": "stdout",
     "output_type": "stream",
     "text": [
      "[1 1 1]\n"
     ]
    }
   ],
   "source": [
    "\n",
    "import numpy as np\n",
    "\n",
    "arr = np.array([[1, 2, 3], [4, 5, 6]])\n",
    "print(np.argmax(arr, axis=0))\n"
   ]
  },
  {
   "cell_type": "markdown",
   "metadata": {},
   "source": [
    " 44. For the given array, apply custom function to calculate moving sum along rows.\n",
    " \n",
    " arr = np.array([[1, 2, 3], [4, 5, 6]])"
   ]
  },
  {
   "cell_type": "code",
   "execution_count": 44,
   "metadata": {},
   "outputs": [
    {
     "name": "stdout",
     "output_type": "stream",
     "text": [
      "[[ 3  5]\n",
      " [ 9 11]]\n"
     ]
    }
   ],
   "source": [
    "import numpy as np\n",
    "\n",
    "def moving_sum(arr, window=2):\n",
    "    return np.convolve(arr, np.ones(window, dtype=int), 'valid')\n",
    "\n",
    "# Example usage\n",
    "arr = np.array([[1, 2, 3], [4, 5, 6]])\n",
    "result = np.apply_along_axis(moving_sum, axis=1, arr=arr)\n",
    "print(result)\n"
   ]
  },
  {
   "cell_type": "markdown",
   "metadata": {},
   "source": [
    "45. In the given array, check if all elements in each column are even.\n",
    "\n",
    " arr = np.array([[2, 4, 6], [3, 5, 7]])"
   ]
  },
  {
   "cell_type": "code",
   "execution_count": 45,
   "metadata": {},
   "outputs": [
    {
     "name": "stdout",
     "output_type": "stream",
     "text": [
      "[False False False]\n"
     ]
    }
   ],
   "source": [
    "import numpy as np\n",
    "\n",
    "arr = np.array([[2, 4, 6], [3, 5, 7]])\n",
    "print(np.all(arr % 2 == 0, axis=0))\n"
   ]
  },
  {
   "cell_type": "markdown",
   "metadata": {},
   "source": [
    "46. Given a NumPy array arr, reshape it into a matrix of dimensions `m` rows and `n` columns. Return the \n",
    "reshaped matrix.\n",
    "\n",
    " original_array = np.array([1, 2, 3, 4, 5, 6])"
   ]
  },
  {
   "cell_type": "code",
   "execution_count": 46,
   "metadata": {},
   "outputs": [
    {
     "name": "stdout",
     "output_type": "stream",
     "text": [
      "[[1 2 3]\n",
      " [4 5 6]]\n"
     ]
    }
   ],
   "source": [
    "import numpy as np\n",
    "\n",
    "def reshape_array(arr, m, n):\n",
    "    return arr.reshape(m, n)\n",
    "\n",
    "original_array = np.array([1, 2, 3, 4, 5, 6])\n",
    "print(reshape_array(original_array, 2, 3))\n"
   ]
  },
  {
   "cell_type": "markdown",
   "metadata": {},
   "source": [
    " 47. Create a function that takes a matrix as input and returns the flattened array.\n",
    " \n",
    " input_matrix = np.array([[1, 2, 3], [4, 5, 6]])"
   ]
  },
  {
   "cell_type": "code",
   "execution_count": 47,
   "metadata": {},
   "outputs": [
    {
     "name": "stdout",
     "output_type": "stream",
     "text": [
      "[1 2 3 4 5 6]\n"
     ]
    }
   ],
   "source": [
    "import numpy as np\n",
    "\n",
    "def flatten_matrix(matrix):\n",
    "    return matrix.flatten()\n",
    "\n",
    "input_matrix = np.array([[1, 2, 3], [4, 5, 6]])\n",
    "print(flatten_matrix(input_matrix))\n"
   ]
  },
  {
   "cell_type": "markdown",
   "metadata": {},
   "source": [
    " 48. Write a function that concatenates two given arrays along a specified axis.\n",
    " \n",
    " array1 = np.array([[1, 2], [3, 4]]) \n",
    " array2 = np.array([[5, 6], [7, 8]])"
   ]
  },
  {
   "cell_type": "code",
   "execution_count": 48,
   "metadata": {},
   "outputs": [
    {
     "name": "stdout",
     "output_type": "stream",
     "text": [
      "[[1 2]\n",
      " [3 4]\n",
      " [5 6]\n",
      " [7 8]]\n",
      "[[1 2 5 6]\n",
      " [3 4 7 8]]\n"
     ]
    }
   ],
   "source": [
    "import numpy as np\n",
    "\n",
    "def concatenate_arrays(arr1, arr2, axis):\n",
    "    return np.concatenate((arr1, arr2), axis=axis)\n",
    "\n",
    "array1 = np.array([[1, 2], [3, 4]])\n",
    "array2 = np.array([[5, 6], [7, 8]])\n",
    "print(concatenate_arrays(array1, array2, axis=0))  # Vertical concatenation\n",
    "print(concatenate_arrays(array1, array2, axis=1))  # Horizontal concatenation\n"
   ]
  },
  {
   "cell_type": "markdown",
   "metadata": {},
   "source": [
    " 49. Create a function that splits an array into multiple sub-arrays along a specified axis.\n",
    " \n",
    " original_array = np.array([[1, 2, 3], [4, 5, 6], [7, 8, 9]])"
   ]
  },
  {
   "cell_type": "code",
   "execution_count": 49,
   "metadata": {},
   "outputs": [
    {
     "name": "stdout",
     "output_type": "stream",
     "text": [
      "[array([[1, 2, 3]]), array([[4, 5, 6]]), array([[7, 8, 9]])]\n"
     ]
    }
   ],
   "source": [
    "import numpy as np\n",
    "\n",
    "def split_array(arr, num_splits, axis):\n",
    "    return np.array_split(arr, num_splits, axis=axis)\n",
    "\n",
    "original_array = np.array([[1, 2, 3], [4, 5, 6], [7, 8, 9]])\n",
    "print(split_array(original_array, 3, axis=0))  # Split along rows\n"
   ]
  },
  {
   "cell_type": "markdown",
   "metadata": {},
   "source": [
    " 50. Write a function that inserts and then deletes elements from a given array at specified indices.\n",
    " \n",
    " original_array = np.array([1, 2, 3, 4, 5]) \n",
    " indices_to_insert = [2, 4] \n",
    " values_to_insert = [10, 11] \n",
    " indices_to_delete = [1, 3]"
   ]
  },
  {
   "cell_type": "code",
   "execution_count": 50,
   "metadata": {},
   "outputs": [
    {
     "name": "stdout",
     "output_type": "stream",
     "text": [
      "[ 1 10  4 11  5]\n"
     ]
    }
   ],
   "source": [
    "import numpy as np\n",
    "\n",
    "def modify_array(arr, insert_indices, insert_values, delete_indices):\n",
    "    arr = np.insert(arr, insert_indices, insert_values)\n",
    "    arr = np.delete(arr, delete_indices)\n",
    "    return arr\n",
    "\n",
    "original_array = np.array([1, 2, 3, 4, 5])\n",
    "indices_to_insert = [2, 4]\n",
    "values_to_insert = [10, 11]\n",
    "indices_to_delete = [1, 3]\n",
    "\n",
    "print(modify_array(original_array, indices_to_insert, values_to_insert, indices_to_delete))\n"
   ]
  },
  {
   "cell_type": "markdown",
   "metadata": {},
   "source": [
    " 51. Create a NumPy array `arr1` with random integers and another array `arr2` with integers from 1 to 10. \n",
    "Perform element-wise addition between `arr1` and `arr2`."
   ]
  },
  {
   "cell_type": "code",
   "execution_count": 51,
   "metadata": {},
   "outputs": [
    {
     "name": "stdout",
     "output_type": "stream",
     "text": [
      "[20 20 21 12  9 13 17 27 19 14]\n"
     ]
    }
   ],
   "source": [
    "import numpy as np\n",
    "\n",
    "arr1 = np.random.randint(1, 20, 10)\n",
    "arr2 = np.arange(1, 11)\n",
    "print(arr1 + arr2)\n"
   ]
  },
  {
   "cell_type": "markdown",
   "metadata": {},
   "source": [
    " 52. Generate a NumPy array `arr1` with sequential integers from 10 to 1 and another array `arr2` with integers \n",
    "from 1 to 10. Subtract `arr2` from `arr1` element-wise."
   ]
  },
  {
   "cell_type": "code",
   "execution_count": 52,
   "metadata": {},
   "outputs": [
    {
     "name": "stdout",
     "output_type": "stream",
     "text": [
      "[ 9  7  5  3  1 -1 -3 -5 -7 -9]\n"
     ]
    }
   ],
   "source": [
    "import numpy as np\n",
    "\n",
    "arr1 = np.arange(10, 0, -1)\n",
    "arr2 = np.arange(1, 11)\n",
    "print(arr1 - arr2)\n"
   ]
  },
  {
   "cell_type": "markdown",
   "metadata": {},
   "source": [
    " 53. Create a NumPy array `arr1` with random integers and another array `arr2` with integers from 1 to 5. \n",
    "Perform element-wise multiplication between `arr1` and `arr2`."
   ]
  },
  {
   "cell_type": "code",
   "execution_count": 53,
   "metadata": {},
   "outputs": [
    {
     "name": "stdout",
     "output_type": "stream",
     "text": [
      "[ 4 36 57 12 35]\n"
     ]
    }
   ],
   "source": [
    "import numpy as np\n",
    "\n",
    "arr1 = np.random.randint(1, 20, 5)\n",
    "arr2 = np.arange(1, 6)\n",
    "print(arr1 * arr2)\n"
   ]
  },
  {
   "cell_type": "markdown",
   "metadata": {},
   "source": [
    " 54. Generate a NumPy array `arr1` with even integers from 2 to 10 and another array `arr2` with integers from 1 \n",
    "to 5. Perform element-wise division of `arr1` by `arr2`."
   ]
  },
  {
   "cell_type": "code",
   "execution_count": 54,
   "metadata": {},
   "outputs": [
    {
     "name": "stdout",
     "output_type": "stream",
     "text": [
      "[2. 2. 2. 2. 2.]\n"
     ]
    }
   ],
   "source": [
    "import numpy as np\n",
    "\n",
    "arr1 = np.arange(2, 11, 2)  # Even numbers from 2 to 10\n",
    "arr2 = np.arange(1, 6)  # Integers from 1 to 5\n",
    "print(arr1 / arr2)\n"
   ]
  },
  {
   "cell_type": "markdown",
   "metadata": {},
   "source": [
    " 55. Create a NumPy array `arr1` with integers from 1 to 5 and another array `arr2` with the same numbers \n",
    "reversed. Calculate the exponentiation of `arr1` raised to the power of `arr2` element-wise."
   ]
  },
  {
   "cell_type": "code",
   "execution_count": 55,
   "metadata": {},
   "outputs": [
    {
     "name": "stdout",
     "output_type": "stream",
     "text": [
      "[ 1 16 27 16  5]\n"
     ]
    }
   ],
   "source": [
    "import numpy as np\n",
    "\n",
    "arr1 = np.arange(1, 6)\n",
    "arr2 = arr1[::-1]  # Reverse order\n",
    "print(arr1 ** arr2)\n"
   ]
  },
  {
   "cell_type": "markdown",
   "metadata": {},
   "source": [
    " 56. Write a function that counts the occurrences of a specific substring within a NumPy array of strings.\n",
    " \n",
    " arr = np.array(['hello', 'world', 'hello', 'numpy', 'hello'])"
   ]
  },
  {
   "cell_type": "code",
   "execution_count": 56,
   "metadata": {},
   "outputs": [
    {
     "name": "stdout",
     "output_type": "stream",
     "text": [
      "[1 0 1 0 1]\n"
     ]
    }
   ],
   "source": [
    "import numpy as np\n",
    "\n",
    "def count_substring(arr, substring):\n",
    "    return np.char.count(arr, substring)\n",
    "\n",
    "arr = np.array(['hello', 'world', 'hello', 'numpy', 'hello'])\n",
    "print(count_substring(arr, 'hello'))\n"
   ]
  },
  {
   "cell_type": "markdown",
   "metadata": {},
   "source": [
    " 57. Write a function that extracts uppercase characters from a NumPy array of strings.\n",
    " arr = np.array(['Hello', 'World', 'OpenAI', 'GPT'])\n",
    " arr = np.array(['Hello', 'World', 'OpenAI', 'GPT'])"
   ]
  },
  {
   "cell_type": "code",
   "execution_count": 57,
   "metadata": {},
   "outputs": [
    {
     "name": "stdout",
     "output_type": "stream",
     "text": [
      "['H' 'W' 'OAI' 'GPT']\n"
     ]
    }
   ],
   "source": [
    "import numpy as np\n",
    "\n",
    "def extract_uppercase(arr):\n",
    "    return np.array([''.join(filter(str.isupper, s)) for s in arr])\n",
    "\n",
    "arr = np.array(['Hello', 'World', 'OpenAI', 'GPT'])\n",
    "print(extract_uppercase(arr))\n"
   ]
  },
  {
   "cell_type": "markdown",
   "metadata": {},
   "source": [
    "58. Write a function that replaces occurrences of a substring in a NumPy array of strings with a new string.\n",
    "\n",
    " arr = np.array(['apple', 'banana', 'grape', 'pineapple'])"
   ]
  },
  {
   "cell_type": "code",
   "execution_count": 58,
   "metadata": {},
   "outputs": [
    {
     "name": "stdout",
     "output_type": "stream",
     "text": [
      "['orange' 'banana' 'grape' 'pineorange']\n"
     ]
    }
   ],
   "source": [
    "import numpy as np\n",
    "\n",
    "def replace_substring(arr, old, new):\n",
    "    return np.char.replace(arr, old, new)\n",
    "\n",
    "arr = np.array(['apple', 'banana', 'grape', 'pineapple'])\n",
    "print(replace_substring(arr, 'apple', 'orange'))\n"
   ]
  },
  {
   "cell_type": "markdown",
   "metadata": {},
   "source": [
    " 59. Write a function that concatenates strings in a NumPy array element-wise.\n",
    " \n",
    " arr1 = np.array(['Hello', 'World']) \n",
    " arr2 = np.array(['Open', 'AI'])"
   ]
  },
  {
   "cell_type": "code",
   "execution_count": 59,
   "metadata": {},
   "outputs": [
    {
     "name": "stdout",
     "output_type": "stream",
     "text": [
      "['HelloOpen' 'WorldAI']\n"
     ]
    }
   ],
   "source": [
    "import numpy as np\n",
    "\n",
    "def concatenate_strings(arr1, arr2):\n",
    "    return np.char.add(arr1, arr2)\n",
    "\n",
    "arr1 = np.array(['Hello', 'World'])\n",
    "arr2 = np.array(['Open', 'AI'])\n",
    "print(concatenate_strings(arr1, arr2))\n"
   ]
  },
  {
   "cell_type": "markdown",
   "metadata": {},
   "source": [
    " 60. Write a function that finds the length of the longest string in a NumPy array.\n",
    " arr = np.array(['apple', 'banana', 'grape', 'pineapple'])\n",
    " \n",
    " arr = np.array(['apple', 'banana', 'grape', 'pineapple'])"
   ]
  },
  {
   "cell_type": "code",
   "execution_count": 60,
   "metadata": {},
   "outputs": [
    {
     "name": "stdout",
     "output_type": "stream",
     "text": [
      "9\n"
     ]
    }
   ],
   "source": [
    "import numpy as np\n",
    "\n",
    "def longest_string_length(arr):\n",
    "    return max(np.char.str_len(arr))\n",
    "\n",
    "arr = np.array(['apple', 'banana', 'grape', 'pineapple'])\n",
    "print(longest_string_length(arr))\n"
   ]
  },
  {
   "cell_type": "markdown",
   "metadata": {},
   "source": [
    " 61. Create a dataset of 100 random integers between 1 and 1000. Compute the mean, median, variance, and \n",
    "standard deviation of the dataset using NumPy's functions."
   ]
  },
  {
   "cell_type": "code",
   "execution_count": 61,
   "metadata": {},
   "outputs": [
    {
     "name": "stdout",
     "output_type": "stream",
     "text": [
      "Mean: 457.44\n",
      "Median: 450.0\n",
      "Variance: 91232.14639999997\n",
      "Standard Deviation: 302.0465964052566\n"
     ]
    }
   ],
   "source": [
    "import numpy as np\n",
    "\n",
    "data = np.random.randint(1, 1001, 100)\n",
    "print(\"Mean:\", np.mean(data))\n",
    "print(\"Median:\", np.median(data))\n",
    "print(\"Variance:\", np.var(data))\n",
    "print(\"Standard Deviation:\", np.std(data))\n"
   ]
  },
  {
   "cell_type": "markdown",
   "metadata": {},
   "source": [
    " 62. Generate an array of 50 random numbers between 1 and 100. Find the 25th and 75th percentiles of the \n",
    "dataset."
   ]
  },
  {
   "cell_type": "code",
   "execution_count": 62,
   "metadata": {},
   "outputs": [
    {
     "name": "stdout",
     "output_type": "stream",
     "text": [
      "25th percentile: 31.25\n",
      "75th percentile: 84.5\n"
     ]
    }
   ],
   "source": [
    "import numpy as np\n",
    "\n",
    "data = np.random.randint(1, 101, 50)\n",
    "print(\"25th percentile:\", np.percentile(data, 25))\n",
    "print(\"75th percentile:\", np.percentile(data, 75))\n"
   ]
  },
  {
   "cell_type": "markdown",
   "metadata": {},
   "source": [
    " 63. Create two arrays representing two sets of variables. Compute the correlation coefficient between these \n",
    "arrays using NumPy's `corrcoef` function."
   ]
  },
  {
   "cell_type": "code",
   "execution_count": 63,
   "metadata": {},
   "outputs": [
    {
     "name": "stdout",
     "output_type": "stream",
     "text": [
      "[[1.        0.2245234]\n",
      " [0.2245234 1.       ]]\n"
     ]
    }
   ],
   "source": [
    "import numpy as np\n",
    "\n",
    "arr1 = np.random.randint(1, 101, 50)\n",
    "arr2 = np.random.randint(1, 101, 50)\n",
    "print(np.corrcoef(arr1, arr2))\n"
   ]
  },
  {
   "cell_type": "markdown",
   "metadata": {},
   "source": [
    " 64. Create two matrices and perform matrix multiplication using NumPy's `dot` function."
   ]
  },
  {
   "cell_type": "code",
   "execution_count": 64,
   "metadata": {},
   "outputs": [
    {
     "name": "stdout",
     "output_type": "stream",
     "text": [
      "[[64 56 96]\n",
      " [64 56 96]\n",
      " [47 39 67]]\n"
     ]
    }
   ],
   "source": [
    "import numpy as np\n",
    "\n",
    "mat1 = np.random.randint(1, 10, (3, 2))\n",
    "mat2 = np.random.randint(1, 10, (2, 3))\n",
    "print(np.dot(mat1, mat2))\n"
   ]
  },
  {
   "cell_type": "markdown",
   "metadata": {},
   "source": [
    " 65. Create an array of 50 integers between 10 and 1000. Calculate the 10th, 50th (median), and 90th \n",
    "percentiles along with the first and third quartiles."
   ]
  },
  {
   "cell_type": "code",
   "execution_count": 65,
   "metadata": {},
   "outputs": [
    {
     "name": "stdout",
     "output_type": "stream",
     "text": [
      "10th percentile: 82.60000000000001\n",
      "50th percentile (median): 528.0\n",
      "90th percentile: 875.4000000000001\n",
      "First quartile (Q1): 215.75\n",
      "Third quartile (Q3): 691.25\n"
     ]
    }
   ],
   "source": [
    "import numpy as np\n",
    "\n",
    "data = np.random.randint(10, 1001, 50)\n",
    "print(\"10th percentile:\", np.percentile(data, 10))\n",
    "print(\"50th percentile (median):\", np.percentile(data, 50))\n",
    "print(\"90th percentile:\", np.percentile(data, 90))\n",
    "print(\"First quartile (Q1):\", np.percentile(data, 25))\n",
    "print(\"Third quartile (Q3):\", np.percentile(data, 75))\n"
   ]
  },
  {
   "cell_type": "markdown",
   "metadata": {},
   "source": [
    "66. Create a NumPy array of integers and find the index of a specific element."
   ]
  },
  {
   "cell_type": "code",
   "execution_count": 66,
   "metadata": {},
   "outputs": [
    {
     "name": "stdout",
     "output_type": "stream",
     "text": [
      "[2]\n"
     ]
    }
   ],
   "source": [
    "import numpy as np\n",
    "\n",
    "arr = np.array([10, 20, 30, 40, 50])\n",
    "element = 30\n",
    "print(np.where(arr == element)[0])\n"
   ]
  },
  {
   "cell_type": "markdown",
   "metadata": {},
   "source": [
    " 67. Generate a random NumPy array and sort it in ascending order."
   ]
  },
  {
   "cell_type": "code",
   "execution_count": 67,
   "metadata": {},
   "outputs": [
    {
     "name": "stdout",
     "output_type": "stream",
     "text": [
      "Original: [96 37 62 42 81  5 52 64 53 22]\n",
      "Sorted: [ 5 22 37 42 52 53 62 64 81 96]\n"
     ]
    }
   ],
   "source": [
    "import numpy as np\n",
    "\n",
    "arr = np.random.randint(1, 101, 10)\n",
    "print(\"Original:\", arr)\n",
    "print(\"Sorted:\", np.sort(arr))\n"
   ]
  },
  {
   "cell_type": "markdown",
   "metadata": {},
   "source": [
    " 68. Filter elements >20  in the given NumPy array.\n",
    " \n",
    " arr = np.array([12, 25, 6, 42, 8, 30])"
   ]
  },
  {
   "cell_type": "code",
   "execution_count": 68,
   "metadata": {},
   "outputs": [
    {
     "name": "stdout",
     "output_type": "stream",
     "text": [
      "[25 42 30]\n"
     ]
    }
   ],
   "source": [
    "import numpy as np\n",
    "\n",
    "arr = np.array([12, 25, 6, 42, 8, 30])\n",
    "print(arr[arr > 20])\n"
   ]
  },
  {
   "cell_type": "markdown",
   "metadata": {},
   "source": [
    " 69. Filter elements which are divisible by 3 from a given NumPy array.\n",
    " \n",
    " arr = np.array([1, 5, 8, 12, 15])"
   ]
  },
  {
   "cell_type": "code",
   "execution_count": 69,
   "metadata": {},
   "outputs": [
    {
     "name": "stdout",
     "output_type": "stream",
     "text": [
      "[12 15]\n"
     ]
    }
   ],
   "source": [
    "import numpy as np\n",
    "\n",
    "arr = np.array([1, 5, 8, 12, 15])\n",
    "print(arr[arr % 3 == 0])\n"
   ]
  },
  {
   "cell_type": "markdown",
   "metadata": {},
   "source": [
    "70. Filter elements which are ≥ 20 and ≤ 40 from a given NumPy array.\n",
    "\n",
    " arr = np.array([10, 20, 30, 40, 50])"
   ]
  },
  {
   "cell_type": "code",
   "execution_count": 70,
   "metadata": {},
   "outputs": [
    {
     "name": "stdout",
     "output_type": "stream",
     "text": [
      "[20 30 40]\n"
     ]
    }
   ],
   "source": [
    "import numpy as np\n",
    "\n",
    "arr = np.array([10, 20, 30, 40, 50])\n",
    "print(arr[(arr >= 20) & (arr <= 40)])\n"
   ]
  },
  {
   "cell_type": "markdown",
   "metadata": {},
   "source": [
    " 71. For the given NumPy array, check its byte order using the `dtype` attribute byteorder.\n",
    " arr = np.array([1, 2, 3])"
   ]
  },
  {
   "cell_type": "code",
   "execution_count": 82,
   "metadata": {},
   "outputs": [
    {
     "name": "stdout",
     "output_type": "stream",
     "text": [
      "Byte Order: =\n"
     ]
    }
   ],
   "source": [
    "import numpy as np\n",
    "\n",
    "arr = np.array([1, 2, 3])\n",
    "byte_order = arr.dtype.byteorder\n",
    "\n",
    "# Print the byte order\n",
    "print(\"Byte Order:\", byte_order)\n",
    "\n"
   ]
  },
  {
   "cell_type": "markdown",
   "metadata": {},
   "source": [
    "72. For the given NumPy array, perform byte swapping in place using `byteswap()`.\n",
    " arr = np.array([1, 2, 3], dtype=np.int32)"
   ]
  },
  {
   "cell_type": "code",
   "execution_count": 72,
   "metadata": {},
   "outputs": [
    {
     "name": "stdout",
     "output_type": "stream",
     "text": [
      "[16777216 33554432 50331648]\n"
     ]
    }
   ],
   "source": [
    "import numpy as np\n",
    "\n",
    "arr = np.array([1, 2, 3], dtype=np.int32)\n",
    "arr.byteswap(inplace=True)\n",
    "print(arr)\n"
   ]
  },
  {
   "cell_type": "markdown",
   "metadata": {},
   "source": [
    " 73. For the given NumPy array, swap its byte order without modifying the original array using \n",
    "`newbyteorder()`.\n",
    "\n",
    " arr = np.array([1, 2, 3], dtype=np.int32)"
   ]
  },
  {
   "cell_type": "code",
   "execution_count": 86,
   "metadata": {},
   "outputs": [
    {
     "name": "stdout",
     "output_type": "stream",
     "text": [
      "Original Byte Order: =\n",
      "Swapped Byte Order: >\n",
      "Original Array: [1 2 3]\n",
      "Swapped Array: [16777216 33554432 50331648]\n"
     ]
    }
   ],
   "source": [
    "import numpy as np\n",
    "\n",
    "arr = np.array([1, 2, 3], dtype=np.int32)\n",
    "\n",
    "# Swap the byte order without modifying the original array\n",
    "swapped_arr = arr.view(arr.dtype.newbyteorder())\n",
    "\n",
    "# Print original and swapped arrays\n",
    "print(\"Original Byte Order:\", arr.dtype.byteorder)\n",
    "print(\"Swapped Byte Order:\", swapped_arr.dtype.byteorder)\n",
    "\n",
    "# Print arrays to observe changes\n",
    "print(\"Original Array:\", arr)\n",
    "print(\"Swapped Array:\", swapped_arr)\n"
   ]
  },
  {
   "cell_type": "markdown",
   "metadata": {},
   "source": [
    " 74. For the given NumPy array and swap its byte order conditionally based on system endianness using \n",
    "`newbyteorder()`.\n",
    " arr = np.array([1, 2, 3], dtype=np.int32)"
   ]
  },
  {
   "cell_type": "code",
   "execution_count": 87,
   "metadata": {},
   "outputs": [
    {
     "name": "stdout",
     "output_type": "stream",
     "text": [
      "System Endianness: <\n",
      "Original Byte Order: =\n",
      "Swapped Byte Order: >\n",
      "Original Array: [1 2 3]\n",
      "Swapped Array: [16777216 33554432 50331648]\n"
     ]
    }
   ],
   "source": [
    "import numpy as np\n",
    "\n",
    "arr = np.array([1, 2, 3], dtype=np.int32)\n",
    "\n",
    "# Check system endianness\n",
    "system_endian = np.dtype(int).byteorder\n",
    "if system_endian == '=':  # '=' means native byte order\n",
    "    system_endian = '<' if np.little_endian else '>'\n",
    "\n",
    "# Swap byte order only if it's little-endian (to big-endian) or vice versa\n",
    "swapped_arr = arr.view(arr.dtype.newbyteorder('S'))  # 'S' means swap\n",
    "\n",
    "# Print results\n",
    "print(\"System Endianness:\", system_endian)\n",
    "print(\"Original Byte Order:\", arr.dtype.byteorder)\n",
    "print(\"Swapped Byte Order:\", swapped_arr.dtype.byteorder)\n",
    "print(\"Original Array:\", arr)\n",
    "print(\"Swapped Array:\", swapped_arr)\n",
    "\n"
   ]
  },
  {
   "cell_type": "markdown",
   "metadata": {},
   "source": [
    "75. For the given NumPy array, check if byte swapping is necessary for the current system using `dtype` \n",
    "attribute `byteorder`.\n",
    "\n",
    " arr = np.array([1, 2, 3], dtype=np.int32)"
   ]
  },
  {
   "cell_type": "code",
   "execution_count": 88,
   "metadata": {},
   "outputs": [
    {
     "name": "stdout",
     "output_type": "stream",
     "text": [
      "Byte swapping is NOT necessary.\n"
     ]
    }
   ],
   "source": [
    "import numpy as np\n",
    "\n",
    "arr = np.array([1, 2, 3], dtype=np.int32)\n",
    "\n",
    "# Check system's native byte order\n",
    "system_endian = np.dtype(int).byteorder\n",
    "\n",
    "# Determine if swapping is needed\n",
    "if arr.dtype.byteorder in ('=', system_endian):\n",
    "    print(\"Byte swapping is NOT necessary.\")\n",
    "else:\n",
    "    print(\"Byte swapping is necessary.\")\n"
   ]
  },
  {
   "cell_type": "markdown",
   "metadata": {},
   "source": [
    " 76. Create a NumPy array `arr1` with values from 1 to 10. Create a copy of `arr1` named `copy_arr` and modify \n",
    "an element in `copy_arr`. Check if modifying `copy_arr` affects `arr1`."
   ]
  },
  {
   "cell_type": "code",
   "execution_count": null,
   "metadata": {},
   "outputs": [
    {
     "name": "stdout",
     "output_type": "stream",
     "text": [
      "Original array: [ 1  2  3  4  5  6  7  8  9 10]\n",
      "Modified copy: [99  2  3  4  5  6  7  8  9 10]\n"
     ]
    }
   ],
   "source": [
    "import numpy as np\n",
    "\n",
    "arr1 = np.arange(1, 11)\n",
    "copy_arr = arr1.copy()\n",
    "copy_arr[0] = 99\n",
    "\n",
    "print(\"Original array:\", arr1)\n",
    "print(\"Modified copy:\", copy_arr)\n"
   ]
  },
  {
   "cell_type": "markdown",
   "metadata": {},
   "source": [
    "77. Create a 2D NumPy array `matrix` of shape (3, 3) with random integers. Extract a slice `view_slice` from \n",
    "the matrix. Modify an element in `view_slice` and observe if it changes the original `matrix`."
   ]
  },
  {
   "cell_type": "code",
   "execution_count": null,
   "metadata": {},
   "outputs": [
    {
     "name": "stdout",
     "output_type": "stream",
     "text": [
      "Original matrix: [[99  3  3]\n",
      " [ 7  5  9]\n",
      " [ 4  3  4]]\n"
     ]
    }
   ],
   "source": [
    "import numpy as np\n",
    "\n",
    "matrix = np.random.randint(1, 10, (3, 3))\n",
    "view_slice = matrix[:2, :2]\n",
    "view_slice[0, 0] = 99\n",
    "\n",
    "print(\"Original matrix:\", matrix)\n"
   ]
  },
  {
   "cell_type": "markdown",
   "metadata": {},
   "source": [
    " 78. Create a NumPy array `array_a` of shape (4, 3) with sequential integers from 1 to 12. Extract a slice \n",
    "`view_b` from `array_a` and broadcast the addition of 5 to view_b. Check if it alters the original `array_a`."
   ]
  },
  {
   "cell_type": "code",
   "execution_count": null,
   "metadata": {},
   "outputs": [
    {
     "name": "stdout",
     "output_type": "stream",
     "text": [
      "Original array after broadcasting: [[ 6  7  8]\n",
      " [ 9 10 11]\n",
      " [ 7  8  9]\n",
      " [10 11 12]]\n"
     ]
    }
   ],
   "source": [
    "import numpy as np\n",
    "\n",
    "array_a = np.arange(1, 13).reshape(4, 3)\n",
    "view_b = array_a[:2, :]\n",
    "view_b += 5\n",
    "\n",
    "print(\"Original array after broadcasting:\", array_a)\n"
   ]
  },
  {
   "cell_type": "markdown",
   "metadata": {},
   "source": [
    " 79. Create a NumPy array `orig_array` of shape (2, 4) with values from 1 to 8. Create a reshaped view \n",
    "`reshaped_view` of shape (4, 2) from orig_array. Modify an element in `reshaped_view` and check if it \n",
    "reflects changes in the original `orig_array`."
   ]
  },
  {
   "cell_type": "code",
   "execution_count": null,
   "metadata": {},
   "outputs": [
    {
     "name": "stdout",
     "output_type": "stream",
     "text": [
      "Original array after modification: [[99  2  3  4]\n",
      " [ 5  6  7  8]]\n"
     ]
    }
   ],
   "source": [
    "import numpy as np\n",
    "\n",
    "orig_array = np.arange(1, 9).reshape(2, 4)\n",
    "reshaped_view = orig_array.reshape(4, 2)\n",
    "reshaped_view[0, 0] = 99\n",
    "\n",
    "print(\"Original array after modification:\", orig_array)\n"
   ]
  },
  {
   "cell_type": "markdown",
   "metadata": {},
   "source": [
    " 80. Create a NumPy array `data` of shape (3, 4) with random integers. Extract a copy `data_copy` of \n",
    "elements greater than 5. Modify an element in `data_copy` and verify if it affects the original `data`"
   ]
  },
  {
   "cell_type": "code",
   "execution_count": null,
   "metadata": {},
   "outputs": [
    {
     "name": "stdout",
     "output_type": "stream",
     "text": [
      "Original data: [[7 3 7 5]\n",
      " [7 3 2 1]\n",
      " [7 7 4 7]]\n",
      "Modified copy: [99  7  7  7  7  7]\n"
     ]
    }
   ],
   "source": [
    "import numpy as np\n",
    "\n",
    "data = np.random.randint(1, 10, (3, 4))\n",
    "data_copy = data[data > 5].copy()\n",
    "data_copy[0] = 99\n",
    "\n",
    "print(\"Original data:\", data)\n",
    "print(\"Modified copy:\", data_copy)\n"
   ]
  },
  {
   "cell_type": "markdown",
   "metadata": {},
   "source": [
    "81. Create two matrices A and B of identical shape containing integers and perform addition and subtraction \n",
    "operations between them."
   ]
  },
  {
   "cell_type": "code",
   "execution_count": null,
   "metadata": {},
   "outputs": [
    {
     "name": "stdout",
     "output_type": "stream",
     "text": [
      "Addition:\n",
      " [[10 10  2]\n",
      " [ 5 12 13]\n",
      " [11 10 10]]\n",
      "Subtraction:\n",
      " [[ 4 -4  0]\n",
      " [-3 -6 -5]\n",
      " [ 1  6  4]]\n"
     ]
    }
   ],
   "source": [
    "import numpy as np\n",
    "\n",
    "A = np.random.randint(1, 10, (3, 3))\n",
    "B = np.random.randint(1, 10, (3, 3))\n",
    "\n",
    "print(\"Addition:\\n\", A + B)\n",
    "print(\"Subtraction:\\n\", A - B)\n"
   ]
  },
  {
   "cell_type": "markdown",
   "metadata": {},
   "source": [
    "82. Generate two matrices `C` (3x2) and `D` (2x4) and perform matrix multiplication"
   ]
  },
  {
   "cell_type": "code",
   "execution_count": null,
   "metadata": {},
   "outputs": [
    {
     "name": "stdout",
     "output_type": "stream",
     "text": [
      "Matrix Multiplication:\n",
      " [[42 90 78 78]\n",
      " [28 60 52 52]\n",
      " [16 48 40 28]]\n"
     ]
    }
   ],
   "source": [
    "import numpy as np\n",
    "\n",
    "C = np.random.randint(1, 10, (3, 2))\n",
    "D = np.random.randint(1, 10, (2, 4))\n",
    "\n",
    "print(\"Matrix Multiplication:\\n\", np.dot(C, D))\n"
   ]
  },
  {
   "cell_type": "markdown",
   "metadata": {},
   "source": [
    " 83. Create a matrix `E` and find its transpose."
   ]
  },
  {
   "cell_type": "code",
   "execution_count": null,
   "metadata": {},
   "outputs": [
    {
     "name": "stdout",
     "output_type": "stream",
     "text": [
      "Transpose:\n",
      " [[7 7 9]\n",
      " [8 9 3]\n",
      " [4 6 6]\n",
      " [2 5 8]]\n"
     ]
    }
   ],
   "source": [
    "import numpy as np\n",
    "\n",
    "E = np.random.randint(1, 10, (3, 4))\n",
    "print(\"Transpose:\\n\", E.T)\n"
   ]
  },
  {
   "cell_type": "markdown",
   "metadata": {},
   "source": [
    "84. Generate a square matrix `F` and compute its determinant"
   ]
  },
  {
   "cell_type": "code",
   "execution_count": null,
   "metadata": {},
   "outputs": [
    {
     "name": "stdout",
     "output_type": "stream",
     "text": [
      "Determinant: 19.000000000000004\n"
     ]
    }
   ],
   "source": [
    "import numpy as np\n",
    "\n",
    "F = np.random.randint(1, 10, (3, 3))\n",
    "print(\"Determinant:\", np.linalg.det(F))\n"
   ]
  },
  {
   "cell_type": "markdown",
   "metadata": {},
   "source": [
    " 85. Create a square matrix `G` and find its inverse"
   ]
  },
  {
   "cell_type": "code",
   "execution_count": null,
   "metadata": {},
   "outputs": [
    {
     "name": "stdout",
     "output_type": "stream",
     "text": [
      "Inverse:\n",
      " [[-8. -2.  5.]\n",
      " [-5. -2.  4.]\n",
      " [11.  3. -7.]]\n"
     ]
    }
   ],
   "source": [
    "import numpy as np\n",
    "\n",
    "G = np.random.randint(1, 10, (3, 3))\n",
    "if np.linalg.det(G) != 0:\n",
    "    print(\"Inverse:\\n\", np.linalg.inv(G))\n",
    "else:\n",
    "    print(\"Matrix is singular, no inverse.\")\n"
   ]
  },
  {
   "cell_type": "code",
   "execution_count": null,
   "metadata": {},
   "outputs": [],
   "source": []
  }
 ],
 "metadata": {
  "kernelspec": {
   "display_name": "Python 3",
   "language": "python",
   "name": "python3"
  },
  "language_info": {
   "codemirror_mode": {
    "name": "ipython",
    "version": 3
   },
   "file_extension": ".py",
   "mimetype": "text/x-python",
   "name": "python",
   "nbconvert_exporter": "python",
   "pygments_lexer": "ipython3",
   "version": "3.12.6"
  }
 },
 "nbformat": 4,
 "nbformat_minor": 2
}
